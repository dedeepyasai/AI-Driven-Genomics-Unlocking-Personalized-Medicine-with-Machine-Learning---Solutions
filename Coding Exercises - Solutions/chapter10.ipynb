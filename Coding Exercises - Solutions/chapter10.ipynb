{
 "cells": [
  {
   "cell_type": "code",
   "execution_count": null,
   "id": "d7868271",
   "metadata": {},
   "outputs": [],
   "source": [
    "import pandas as pd\n",
    "import numpy as np\n",
    "from cryptography.fernet import Fernet\n",
    "import hashlib\n",
    "import datetime\n",
    "import json\n",
    "import re\n",
    "\n"
   ]
  },
  {
   "cell_type": "code",
   "execution_count": null,
   "id": "193d8655",
   "metadata": {},
   "outputs": [],
   "source": [
    "# 1. Anonymize genomic data\n",
    "def anonymize_genomic_data(data, identifiers):\n",
    "    anonymized_data = data.copy()\n",
    "    for identifier in identifiers:\n",
    "        if identifier in anonymized_data.columns:\n",
    "            anonymized_data[identifier] = anonymized_data[identifier].apply(lambda x: hashlib.sha256(str(x).encode()).hexdigest())\n",
    "    return anonymized_data\n",
    "\n",
    "\n"
   ]
  },
  {
   "cell_type": "code",
   "execution_count": null,
   "id": "b60387ff",
   "metadata": {},
   "outputs": [],
   "source": [
    "# 2. Manage patient consent\n",
    "def manage_patient_consent(patient_id, study_types):\n",
    "    consent_database = {}  # In practice, this would be a secure database\n",
    "    consent_database[patient_id] = {study: False for study in study_types}\n",
    "    \n",
    "    def give_consent(study):\n",
    "        consent_database[patient_id][study] = True\n",
    "    \n",
    "    def revoke_consent(study):\n",
    "        consent_database[patient_id][study] = False\n",
    "    \n",
    "    def check_consent(study):\n",
    "        return consent_database[patient_id].get(study, False)\n",
    "    \n",
    "    return give_consent, revoke_consent, check_consent\n",
    "\n"
   ]
  },
  {
   "cell_type": "code",
   "execution_count": null,
   "id": "64b5625f",
   "metadata": {},
   "outputs": [],
   "source": [
    "# 3. Encrypt sensitive genomic data\n",
    "def encrypt_genomic_data(data):\n",
    "    key = Fernet.generate_key()\n",
    "    fernet = Fernet(key)\n",
    "    encrypted_data = data.applymap(lambda x: fernet.encrypt(str(x).encode()))\n",
    "    return encrypted_data, key\n",
    "\n"
   ]
  },
  {
   "cell_type": "code",
   "execution_count": null,
   "id": "d2daef1f",
   "metadata": {},
   "outputs": [],
   "source": [
    "# 4. Implement differential privacy\n",
    "def add_differential_privacy(data, epsilon=1.0):\n",
    "    sensitivity = 1  # Assuming binary data or normalized data\n",
    "    noise_scale = sensitivity / epsilon\n",
    "    noisy_data = data + np.random.laplace(0, noise_scale, data.shape)\n",
    "    return noisy_data\n",
    "\n"
   ]
  },
  {
   "cell_type": "code",
   "execution_count": null,
   "id": "af1f86e7",
   "metadata": {},
   "outputs": [],
   "source": [
    "# 5. Track data access and usage\n",
    "def track_data_access(user_id, data_accessed, purpose):\n",
    "    access_log = []  # In practice, this would be a secure database\n",
    "    access_log.append({\n",
    "        'user_id': user_id,\n",
    "        'data_accessed': data_accessed,\n",
    "        'purpose': purpose,\n",
    "        'timestamp': datetime.datetime.now().isoformat()\n",
    "    })\n",
    "    return access_log\n",
    "\n"
   ]
  },
  {
   "cell_type": "code",
   "execution_count": null,
   "id": "95ace070",
   "metadata": {},
   "outputs": [],
   "source": [
    "# 6. Ensure compliance with data retention policies\n",
    "def manage_data_retention(data, retention_period):\n",
    "    current_date = datetime.datetime.now()\n",
    "    data['retention_end_date'] = current_date + datetime.timedelta(days=retention_period)\n",
    "    \n",
    "    def check_retention(row):\n",
    "        return current_date <= row['retention_end_date']\n",
    "    \n",
    "    return data[data.apply(check_retention, axis=1)]\n",
    "\n"
   ]
  },
  {
   "cell_type": "code",
   "execution_count": null,
   "id": "83ce9d28",
   "metadata": {},
   "outputs": [],
   "source": [
    "# 7. Generate data sharing agreement\n",
    "def generate_data_sharing_agreement(study_name, parties, data_description, usage_restrictions):\n",
    "    agreement = f\"\"\"\n",
    "    Data Sharing Agreement\n",
    "    \n",
    "    Study: {study_name}\n",
    "    Parties Involved: {', '.join(parties)}\n",
    "    \n",
    "    Data Description:\n",
    "    {data_description}\n",
    "    \n",
    "    Usage Restrictions:\n",
    "    {usage_restrictions}\n",
    "    \n",
    "    By signing below, all parties agree to adhere to the terms outlined in this agreement.\n",
    "    \"\"\"\n",
    "    return agreement\n",
    "\n"
   ]
  },
  {
   "cell_type": "code",
   "execution_count": null,
   "id": "cd8f9466",
   "metadata": {},
   "outputs": [],
   "source": [
    "# 8. Detect re-identification risks\n",
    "def detect_reidentification_risk(data, quasi_identifiers):\n",
    "    risk_scores = {}\n",
    "    for column in quasi_identifiers:\n",
    "        uniqueness = 1 - (data[column].nunique() / len(data))\n",
    "        risk_scores[column] = uniqueness\n",
    "    return risk_scores\n",
    "\n"
   ]
  },
  {
   "cell_type": "code",
   "execution_count": null,
   "id": "7eb1142e",
   "metadata": {},
   "outputs": [],
   "source": [
    "# 9. Manage withdrawal of consent and data deletion\n",
    "def manage_consent_withdrawal(patient_id, data):\n",
    "    def withdraw_consent():\n",
    "        # Remove patient data\n",
    "        data = data[data['patient_id'] != patient_id]\n",
    "        print(f\"Data for patient {patient_id} has been removed.\")\n",
    "        return data\n",
    "    \n",
    "    return withdraw_consent\n",
    "\n"
   ]
  },
  {
   "cell_type": "code",
   "execution_count": null,
   "id": "a10ceb86",
   "metadata": {},
   "outputs": [],
   "source": [
    "# 10. Automated ethics review\n",
    "def automated_ethics_review(proposal):\n",
    "    ethical_concerns = []\n",
    "    \n",
    "    # Check for keywords related to vulnerable populations\n",
    "    vulnerable_populations = ['children', 'prisoners', 'pregnant women', 'mentally disabled']\n",
    "    for population in vulnerable_populations:\n",
    "        if population in proposal.lower():\n",
    "            ethical_concerns.append(f\"Research involves {population}. Special protections required.\")\n",
    "    \n",
    "    # Check for proper consent procedures\n",
    "    if 'informed consent' not in proposal.lower():\n",
    "        ethical_concerns.append(\"No mention of informed consent process.\")\n",
    "    \n",
    "    # Check for data privacy measures\n",
    "    privacy_keywords = ['anonymization', 'encryption', 'data protection']\n",
    "    if not any(keyword in proposal.lower() for keyword in privacy_keywords):\n",
    "        ethical_concerns.append(\"No clear data privacy measures mentioned.\")\n",
    "    \n",
    "    # Check for benefit sharing\n",
    "    if 'benefit sharing' not in proposal.lower():\n",
    "        ethical_concerns.append(\"No mention of benefit sharing with participants or communities.\")\n",
    "    \n",
    "    return ethical_concerns\n",
    "\n"
   ]
  },
  {
   "cell_type": "code",
   "execution_count": null,
   "id": "ce100b35",
   "metadata": {},
   "outputs": [],
   "source": [
    "# Example usage:\n",
    "# Assuming you have a pandas DataFrame 'genomic_data' with patient information\n",
    "# identifiers = ['name', 'address', 'phone']\n",
    "# anonymized_data = anonymize_genomic_data(genomic_data, identifiers)\n",
    "\n",
    "# give_consent, revoke_consent, check_consent = manage_patient_consent('patient123', ['clinical_trial', 'genetic_testing'])\n",
    "# give_consent('clinical_trial')\n",
    "# has_consent = check_consent('clinical_trial')\n",
    "\n",
    "# encrypted_data, key = encrypt_genomic_data(genomic_data)\n",
    "\n",
    "# aggregate_data = genomic_data.mean()\n",
    "# private_aggregate_data = add_differential_privacy(aggregate_data)\n",
    "\n",
    "# access_log = track_data_access('researcher1', 'patient_genotypes', 'association_study')\n",
    "\n",
    "# retained_data = manage_data_retention(genomic_data, retention_period=365)\n",
    "\n",
    "# agreement = generate_data_sharing_agreement('Genetic Association Study', ['Lab A', 'Lab B'], 'Whole genome sequencing data', 'For research purposes only')\n",
    "\n",
    "# risk_scores = detect_reidentification_risk(anonymized_data, ['age', 'gender', 'zip_code'])\n",
    "\n",
    "# withdraw_consent = manage_consent_withdrawal('patient123', genomic_data)\n",
    "# updated_data = withdraw_consent()\n",
    "\n",
    "# proposal = \"We propose a study on genetic factors affecting drug response in children. Informed consent will be obtained from parents. Data will be anonymized.\"\n",
    "# ethics_review = automated_ethics_review(proposal)"
   ]
  }
 ],
 "metadata": {
  "kernelspec": {
   "display_name": "Python 3 (ipykernel)",
   "language": "python",
   "name": "python3"
  },
  "language_info": {
   "codemirror_mode": {
    "name": "ipython",
    "version": 3
   },
   "file_extension": ".py",
   "mimetype": "text/x-python",
   "name": "python",
   "nbconvert_exporter": "python",
   "pygments_lexer": "ipython3",
   "version": "3.9.6"
  }
 },
 "nbformat": 4,
 "nbformat_minor": 5
}

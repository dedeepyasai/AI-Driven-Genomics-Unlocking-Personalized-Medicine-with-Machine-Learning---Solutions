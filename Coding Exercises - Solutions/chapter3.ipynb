{
 "cells": [
  {
   "cell_type": "code",
   "execution_count": null,
   "id": "d3b27106",
   "metadata": {},
   "outputs": [],
   "source": [
    "from Bio.Seq import Seq\n",
    "from Bio import SeqIO\n",
    "import random\n",
    "import re"
   ]
  },
  {
   "cell_type": "code",
   "execution_count": null,
   "id": "d1ef6a92",
   "metadata": {},
   "outputs": [],
   "source": [
    "# 1. Predict amino acid change\n",
    "def predict_aa_change(reference_seq, position, alt_base):\n",
    "    codon_start = (position // 3) * 3\n",
    "    ref_codon = reference_seq[codon_start:codon_start + 3]\n",
    "    alt_codon = ref_codon[:position % 3] + alt_base + ref_codon[position % 3 + 1:]\n",
    "    ref_aa = Seq(ref_codon).translate()\n",
    "    alt_aa = Seq(alt_codon).translate()\n",
    "    return f\"{ref_aa}{position//3 + 1}{alt_aa}\""
   ]
  },
  {
   "cell_type": "code",
   "execution_count": null,
   "id": "f9268bd6",
   "metadata": {},
   "outputs": [],
   "source": [
    "# 2. Classify variants as coding or non-coding\n",
    "def classify_variant(variant_position, gene_starts, gene_ends):\n",
    "    for start, end in zip(gene_starts, gene_ends):\n",
    "        if start <= variant_position <= end:\n",
    "            return \"Coding\"\n",
    "    return \"Non-coding\"\n"
   ]
  },
  {
   "cell_type": "code",
   "execution_count": null,
   "id": "4527c80c",
   "metadata": {},
   "outputs": [],
   "source": [
    "# 3. Identify variants in regulatory regions\n",
    "def identify_regulatory_variants(variants, regulatory_regions):\n",
    "    regulatory_variants = []\n",
    "    for variant in variants:\n",
    "        for region_start, region_end, region_type in regulatory_regions:\n",
    "            if region_start <= variant['position'] <= region_end:\n",
    "                regulatory_variants.append({**variant, 'regulatory_type': region_type})\n",
    "                break\n",
    "    return regulatory_variants\n",
    "\n"
   ]
  },
  {
   "cell_type": "code",
   "execution_count": null,
   "id": "ef396a1e",
   "metadata": {},
   "outputs": [],
   "source": [
    "# 4. Calculate SIFT score (simulated)\n",
    "def calculate_sift_score(reference_aa, alternate_aa):\n",
    "    # This is a simplified simulation of SIFT score calculation\n",
    "    amino_acids = 'ACDEFGHIKLMNPQRSTVWY'\n",
    "    if reference_aa == alternate_aa:\n",
    "        return 1.0\n",
    "    elif reference_aa in amino_acids and alternate_aa in amino_acids:\n",
    "        return random.uniform(0, 1)\n",
    "    else:\n",
    "        return 0.0\n",
    "\n"
   ]
  },
  {
   "cell_type": "code",
   "execution_count": null,
   "id": "0bb73985",
   "metadata": {},
   "outputs": [],
   "source": [
    "# 5. Determine if variant causes frameshift\n",
    "def is_frameshift(ref_allele, alt_allele):\n",
    "    return abs(len(ref_allele) - len(alt_allele)) % 3 != 0\n",
    "\n"
   ]
  },
  {
   "cell_type": "code",
   "execution_count": null,
   "id": "89e2d36d",
   "metadata": {},
   "outputs": [],
   "source": [
    "# 6. Annotate variants with gene names\n",
    "def annotate_with_gene_names(variants, gene_coords):\n",
    "    annotated_variants = []\n",
    "    for variant in variants:\n",
    "        for gene, (start, end) in gene_coords.items():\n",
    "            if start <= variant['position'] <= end:\n",
    "                annotated_variants.append({**variant, 'gene': gene})\n",
    "                break\n",
    "        else:\n",
    "            annotated_variants.append({**variant, 'gene': 'Intergenic'})\n",
    "    return annotated_variants\n",
    "\n"
   ]
  },
  {
   "cell_type": "code",
   "execution_count": null,
   "id": "daa0f9ec",
   "metadata": {},
   "outputs": [],
   "source": [
    "# 7. Predict impact of splice site variants\n",
    "def predict_splice_impact(variant, exon_starts, exon_ends):\n",
    "    for start, end in zip(exon_starts, exon_ends):\n",
    "        if variant['position'] in range(start - 2, start + 2) or variant['position'] in range(end - 1, end + 3):\n",
    "            return \"Potential splice site disruption\"\n",
    "    return \"No predicted splice site impact\"\n",
    "\n"
   ]
  },
  {
   "cell_type": "code",
   "execution_count": null,
   "id": "b45c00ee",
   "metadata": {},
   "outputs": [],
   "source": [
    "# 8. Identify variants affecting transcription factor binding sites\n",
    "def identify_tfbs_variants(variants, tfbs_motifs):\n",
    "    tfbs_variants = []\n",
    "    for variant in variants:\n",
    "        for motif, sequence in tfbs_motifs.items():\n",
    "            ref_sequence = variant['ref_sequence']\n",
    "            alt_sequence = ref_sequence[:variant['position']] + variant['alt_allele'] + ref_sequence[variant['position']+1:]\n",
    "            if sequence in ref_sequence and sequence not in alt_sequence:\n",
    "                tfbs_variants.append({**variant, 'disrupted_tfbs': motif})\n",
    "            elif sequence not in ref_sequence and sequence in alt_sequence:\n",
    "                tfbs_variants.append({**variant, 'created_tfbs': motif})\n",
    "    return tfbs_variants\n",
    "\n"
   ]
  },
  {
   "cell_type": "code",
   "execution_count": null,
   "id": "6fa82aa3",
   "metadata": {},
   "outputs": [],
   "source": [
    "# 9. Calculate conservation score (simulated)\n",
    "def calculate_conservation_score(position, species_sequences):\n",
    "    # This is a simplified simulation of conservation score calculation\n",
    "    bases_at_position = [seq[position] for seq in species_sequences]\n",
    "    most_common = max(set(bases_at_position), key=bases_at_position.count)\n",
    "    conservation_score = bases_at_position.count(most_common) / len(species_sequences)\n",
    "    return conservation_score\n",
    "\n"
   ]
  },
  {
   "cell_type": "code",
   "execution_count": null,
   "id": "30f96c78",
   "metadata": {},
   "outputs": [],
   "source": [
    "# 10. Integrate annotations from multiple sources\n",
    "def integrate_annotations(variants, gene_impacts, conservation_scores, regulatory_regions):\n",
    "    integrated_annotations = []\n",
    "    for variant in variants:\n",
    "        annotation = {\n",
    "            'position': variant['position'],\n",
    "            'ref_allele': variant['ref_allele'],\n",
    "            'alt_allele': variant['alt_allele'],\n",
    "            'gene_impact': gene_impacts.get(variant['position'], 'Unknown'),\n",
    "            'conservation_score': conservation_scores.get(variant['position'], 'Unknown'),\n",
    "            'regulatory_region': 'None'\n",
    "        }\n",
    "        for start, end, region_type in regulatory_regions:\n",
    "            if start <= variant['position'] <= end:\n",
    "                annotation['regulatory_region'] = region_type\n",
    "                break\n",
    "        integrated_annotations.append(annotation)\n",
    "    return integrated_annotations\n",
    "\n"
   ]
  },
  {
   "cell_type": "code",
   "execution_count": null,
   "id": "026c6ec3",
   "metadata": {},
   "outputs": [],
   "source": [
    "# Example usage:\n",
    "# aa_change = predict_aa_change(\"ATGGCCTGA\", 3, \"C\")\n",
    "# variant_type = classify_variant(1000, [500, 2000], [1500, 2500])\n",
    "# reg_variants = identify_regulatory_variants([{'position': 100}, {'position': 200}], [(50, 150, 'promoter'), (180, 220, 'enhancer')])\n",
    "# sift_score = calculate_sift_score('A', 'V')\n",
    "# frameshift = is_frameshift('AT', 'A')\n",
    "# annotated_vars = annotate_with_gene_names([{'position': 1000}], {'Gene1': (500, 1500), 'Gene2': (2000, 2500)})\n",
    "# splice_impact = predict_splice_impact({'position': 1001}, [1000, 2000], [1500, 2500])\n",
    "# tfbs_vars = identify_tfbs_variants([{'position': 10, 'ref_sequence': 'ATCGATCG', 'alt_allele': 'G'}], {'TF1': 'GATC'})\n",
    "# cons_score = calculate_conservation_score(5, ['ATCGATCG', 'ATCTATCG', 'ATCGATCG'])\n",
    "# integrated_annot = integrate_annotations([{'position': 100, 'ref_allele': 'A', 'alt_allele': 'G'}], {100: 'Missense'}, {100: 0.9}, [(50, 150, 'promoter')])\n"
   ]
  }
 ],
 "metadata": {
  "kernelspec": {
   "display_name": "Python 3 (ipykernel)",
   "language": "python",
   "name": "python3"
  },
  "language_info": {
   "codemirror_mode": {
    "name": "ipython",
    "version": 3
   },
   "file_extension": ".py",
   "mimetype": "text/x-python",
   "name": "python",
   "nbconvert_exporter": "python",
   "pygments_lexer": "ipython3",
   "version": "3.9.6"
  }
 },
 "nbformat": 4,
 "nbformat_minor": 5
}

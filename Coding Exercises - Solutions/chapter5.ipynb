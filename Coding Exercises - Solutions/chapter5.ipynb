{
 "cells": [
  {
   "cell_type": "code",
   "execution_count": null,
   "id": "8fe42b69",
   "metadata": {},
   "outputs": [],
   "source": [
    "import numpy as np\n",
    "import pandas as pd\n",
    "from scipy import stats\n",
    "from sklearn.cluster import KMeans\n",
    "from sklearn.decomposition import PCA\n",
    "import matplotlib.pyplot as plt\n",
    "import seaborn as sns\n",
    "from goatools import obo_parser, go_enrichment\n",
    "from scipy.stats import pearsonr\n",
    "import networkx as nx\n",
    "from scipy.spatial.distance import pdist, squareform\n"
   ]
  },
  {
   "cell_type": "code",
   "execution_count": null,
   "id": "071b6cde",
   "metadata": {},
   "outputs": [],
   "source": [
    "# 1. Normalize RNA-seq data using TPM\n",
    "def calculate_tpm(counts, lengths):\n",
    "    rate = counts / lengths\n",
    "    return rate / np.sum(rate) * 1e6\n"
   ]
  },
  {
   "cell_type": "code",
   "execution_count": null,
   "id": "d331eddd",
   "metadata": {},
   "outputs": [],
   "source": [
    "# 2. Identify differentially expressed genes\n",
    "def identify_de_genes(condition1, condition2, alpha=0.05):\n",
    "    de_genes = []\n",
    "    for gene in condition1.index:\n",
    "        t_stat, p_value = stats.ttest_ind(condition1.loc[gene], condition2.loc[gene])\n",
    "        if p_value < alpha:\n",
    "            de_genes.append((gene, t_stat, p_value))\n",
    "    return pd.DataFrame(de_genes, columns=['Gene', 't_statistic', 'p_value'])\n"
   ]
  },
  {
   "cell_type": "code",
   "execution_count": null,
   "id": "f4ebb7a3",
   "metadata": {},
   "outputs": [],
   "source": [
    "# 3. Perform GO enrichment analysis\n",
    "def go_enrichment_analysis(gene_list, go_annotations, go_obo):\n",
    "    go = obo_parser.GODag(go_obo)\n",
    "    study = set(gene_list)\n",
    "    population = set(go_annotations.keys())\n",
    "    g = go_enrichment.GOEnrichmentStudy(population, go_annotations, go, propagate_counts=True, alpha=0.05)\n",
    "    results = g.run_study(study)\n",
    "    return results\n"
   ]
  },
  {
   "cell_type": "code",
   "execution_count": null,
   "id": "5edc4086",
   "metadata": {},
   "outputs": [],
   "source": [
    "# 4. Cluster gene expression data using k-means\n",
    "def cluster_gene_expression(expression_data, n_clusters=5):\n",
    "    kmeans = KMeans(n_clusters=n_clusters, random_state=42)\n",
    "    clusters = kmeans.fit_predict(expression_data)\n",
    "    return pd.Series(clusters, index=expression_data.index, name='Cluster')\n"
   ]
  },
  {
   "cell_type": "code",
   "execution_count": null,
   "id": "597fef6a",
   "metadata": {},
   "outputs": [],
   "source": [
    "# 5. Visualize gene expression as heatmap\n",
    "def plot_expression_heatmap(expression_data):\n",
    "    plt.figure(figsize=(12, 8))\n",
    "    sns.heatmap(expression_data, cmap='viridis', center=0)\n",
    "    plt.title('Gene Expression Heatmap')\n",
    "    plt.xlabel('Samples')\n",
    "    plt.ylabel('Genes')\n",
    "    plt.show()\n"
   ]
  },
  {
   "cell_type": "code",
   "execution_count": null,
   "id": "dfefb318",
   "metadata": {},
   "outputs": [],
   "source": [
    "# 6. Perform PCA on gene expression data\n",
    "def perform_pca(expression_data, n_components=2):\n",
    "    pca = PCA(n_components=n_components)\n",
    "    pca_result = pca.fit_transform(expression_data.T)\n",
    "    return pd.DataFrame(pca_result, columns=[f'PC{i+1}' for i in range(n_components)], index=expression_data.columns)\n"
   ]
  },
  {
   "cell_type": "code",
   "execution_count": null,
   "id": "58d54239",
   "metadata": {},
   "outputs": [],
   "source": [
    "# 7. Calculate correlation between gene expression and phenotype\n",
    "def gene_phenotype_correlation(expression_data, phenotype):\n",
    "    correlations = {}\n",
    "    for gene in expression_data.index:\n",
    "        corr, p_value = pearsonr(expression_data.loc[gene], phenotype)\n",
    "        correlations[gene] = {'correlation': corr, 'p_value': p_value}\n",
    "    return pd.DataFrame.from_dict(correlations, orient='index')\n"
   ]
  },
  {
   "cell_type": "code",
   "execution_count": null,
   "id": "a6f75d49",
   "metadata": {},
   "outputs": [],
   "source": [
    "# 8. Identify co-expressed gene modules (simplified WGCNA)\n",
    "def identify_coexpression_modules(expression_data, threshold=0.8):\n",
    "    corr_matrix = expression_data.T.corr()\n",
    "    adjacency_matrix = (corr_matrix.abs() > threshold).astype(int)\n",
    "    G = nx.from_pandas_adjacency(adjacency_matrix)\n",
    "    modules = list(nx.connected_components(G))\n",
    "    return modules\n"
   ]
  },
  {
   "cell_type": "code",
   "execution_count": null,
   "id": "3568b676",
   "metadata": {},
   "outputs": [],
   "source": [
    "# 9. Perform pathway analysis\n",
    "def pathway_analysis(de_genes, pathway_database):\n",
    "    enriched_pathways = []\n",
    "    for pathway, genes in pathway_database.items():\n",
    "        overlap = set(de_genes).intersection(genes)\n",
    "        if overlap:\n",
    "            enrichment_score = len(overlap) / len(genes)\n",
    "            enriched_pathways.append((pathway, list(overlap), enrichment_score))\n",
    "    return pd.DataFrame(enriched_pathways, columns=['Pathway', 'Overlapping_Genes', 'Enrichment_Score'])\n"
   ]
  },
  {
   "cell_type": "code",
   "execution_count": null,
   "id": "30c00224",
   "metadata": {},
   "outputs": [],
   "source": [
    "# 10. Simulate RNA-seq count data\n",
    "def simulate_rnaseq_data(n_genes=1000, n_samples=10, n_de_genes=100, fold_change=2):\n",
    "    counts = np.random.negative_binomial(10, 0.5, size=(n_genes, n_samples))\n",
    "    de_genes = np.random.choice(n_genes, n_de_genes, replace=False)\n",
    "    counts[de_genes, n_samples//2:] *= fold_change\n",
    "    return pd.DataFrame(counts, columns=[f'Sample_{i+1}' for i in range(n_samples)])\n"
   ]
  },
  {
   "cell_type": "code",
   "execution_count": null,
   "id": "7b29909b",
   "metadata": {},
   "outputs": [],
   "source": [
    "# Example usage:\n",
    "# gene_lengths = pd.Series(np.random.randint(500, 5000, 1000))\n",
    "# raw_counts = pd.DataFrame(np.random.randint(0, 1000, size=(1000, 10)))\n",
    "# tpm_normalized = raw_counts.apply(lambda x: calculate_tpm(x, gene_lengths))\n",
    "\n",
    "# condition1 = pd.DataFrame(np.random.normal(10, 2, size=(1000, 5)))\n",
    "# condition2 = pd.DataFrame(np.random.normal(10, 2, size=(1000, 5)))\n",
    "# de_genes = identify_de_genes(condition1, condition2)\n",
    "\n",
    "# gene_list = ['GENE1', 'GENE2', 'GENE3']\n",
    "# go_annotations = {'GENE1': ['GO:0006915'], 'GENE2': ['GO:0008283'], 'GENE3': ['GO:0007049']}\n",
    "# go_obo = 'path/to/go.obo'\n",
    "# enrichment_results = go_enrichment_analysis(gene_list, go_annotations, go_obo)\n",
    "\n",
    "# expression_data = pd.DataFrame(np.random.normal(10, 2, size=(1000, 20)))\n",
    "# clusters = cluster_gene_expression(expression_data)\n",
    "\n",
    "# plot_expression_heatmap(expression_data.iloc[:50])\n",
    "\n",
    "# pca_results = perform_pca(expression_data)\n",
    "\n",
    "# phenotype = pd.Series(np.random.normal(50, 10, 20))\n",
    "# correlations = gene_phenotype_correlation(expression_data, phenotype)\n",
    "\n",
    "# coexpression_modules = identify_coexpression_modules(expression_data)\n",
    "\n",
    "# de_genes = ['GENE1', 'GENE2', 'GENE3']\n",
    "# pathway_db = {'Pathway1': ['GENE1', 'GENE4'], 'Pathway2': ['GENE2', 'GENE3', 'GENE5']}\n",
    "# pathway_results = pathway_analysis(de_genes, pathway_db)\n",
    "\n",
    "# simulated_data = simulate_rnaseq_data()"
   ]
  }
 ],
 "metadata": {
  "kernelspec": {
   "display_name": "Python 3 (ipykernel)",
   "language": "python",
   "name": "python3"
  },
  "language_info": {
   "codemirror_mode": {
    "name": "ipython",
    "version": 3
   },
   "file_extension": ".py",
   "mimetype": "text/x-python",
   "name": "python",
   "nbconvert_exporter": "python",
   "pygments_lexer": "ipython3",
   "version": "3.9.6"
  }
 },
 "nbformat": 4,
 "nbformat_minor": 5
}

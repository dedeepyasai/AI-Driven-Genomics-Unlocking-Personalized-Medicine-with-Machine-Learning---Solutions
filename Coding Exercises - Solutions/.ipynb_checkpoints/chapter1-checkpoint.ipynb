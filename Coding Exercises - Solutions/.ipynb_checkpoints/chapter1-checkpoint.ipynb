{
 "cells": [
  {
   "cell_type": "code",
   "execution_count": null,
   "id": "7ade9153",
   "metadata": {},
   "outputs": [],
   "source": [
    "from Bio import SeqIO\n",
    "from Bio.Seq import Seq\n",
    "import gzip\n",
    "import matplotlib.pyplot as plt"
   ]
  },
  {
   "cell_type": "code",
   "execution_count": null,
   "id": "1a636467",
   "metadata": {},
   "outputs": [],
   "source": [
    "# 1. Count sequences in a FASTQ file\n",
    "def count_fastq_sequences(fastq_file):\n",
    "    count = 0\n",
    "    with gzip.open(fastq_file, \"rt\") if fastq_file.endswith(\".gz\") else open(fastq_file, \"r\") as handle:\n",
    "        for record in SeqIO.parse(handle, \"fastq\"):\n",
    "            count += 1\n",
    "    return count\n",
    "\n"
   ]
  },
  {
   "cell_type": "code",
   "execution_count": null,
   "id": "b787ac47",
   "metadata": {},
   "outputs": [],
   "source": [
    "# 2. Calculate GC content\n",
    "def calculate_gc_content(fasta_file):\n",
    "    gc_contents = []\n",
    "    for record in SeqIO.parse(fasta_file, \"fasta\"):\n",
    "        sequence = str(record.seq).upper()\n",
    "        gc_content = (sequence.count('G') + sequence.count('C')) / len(sequence) * 100\n",
    "        gc_contents.append(gc_content)\n",
    "    return gc_contents\n"
   ]
  },
  {
   "cell_type": "code",
   "execution_count": null,
   "id": "6b8f96b1",
   "metadata": {},
   "outputs": [],
   "source": [
    "# 3. Convert FASTQ to FASTA\n",
    "def fastq_to_fasta(fastq_file, fasta_file):\n",
    "    with open(fasta_file, \"w\") as output_handle:\n",
    "        SeqIO.convert(fastq_file, \"fastq\", output_handle, \"fasta\")"
   ]
  },
  {
   "cell_type": "code",
   "execution_count": null,
   "id": "433d16e5",
   "metadata": {},
   "outputs": [],
   "source": [
    "# 4. Find longest sequence in FASTA\n",
    "def find_longest_sequence(fasta_file):\n",
    "    return max(SeqIO.parse(fasta_file, \"fasta\"), key=lambda x: len(x.seq))"
   ]
  },
  {
   "cell_type": "code",
   "execution_count": null,
   "id": "5769a4f2",
   "metadata": {},
   "outputs": [],
   "source": [
    "# 5. Calculate N50\n",
    "def calculate_n50(fasta_file):\n",
    "    lengths = [len(record.seq) for record in SeqIO.parse(fasta_file, \"fasta\")]\n",
    "    lengths.sort(reverse=True)\n",
    "    total_length = sum(lengths)\n",
    "    cumulative_length = 0\n",
    "    for length in lengths:\n",
    "        cumulative_length += length\n",
    "        if cumulative_length >= total_length / 2:\n",
    "            return length"
   ]
  },
  {
   "cell_type": "code",
   "execution_count": null,
   "id": "bb70dc06",
   "metadata": {},
   "outputs": [],
   "source": [
    "# 6. Filter low-quality reads\n",
    "def filter_low_quality_reads(input_fastq, output_fastq, quality_threshold):\n",
    "    with open(output_fastq, \"w\") as output_handle:\n",
    "        for record in SeqIO.parse(input_fastq, \"fastq\"):\n",
    "            if min(record.letter_annotations[\"phred_quality\"]) >= quality_threshold:\n",
    "                SeqIO.write(record, output_handle, \"fastq\")\n"
   ]
  },
  {
   "cell_type": "code",
   "execution_count": null,
   "id": "a1c8bcfd",
   "metadata": {},
   "outputs": [],
   "source": [
    "# 7. Compare two FASTA files\n",
    "def compare_fasta_files(fasta1, fasta2):\n",
    "    sequences1 = set(str(record.seq) for record in SeqIO.parse(fasta1, \"fasta\"))\n",
    "    sequences2 = set(str(record.seq) for record in SeqIO.parse(fasta2, \"fasta\"))\n",
    "    return sequences1.intersection(sequences2)\n",
    "\n"
   ]
  },
  {
   "cell_type": "code",
   "execution_count": null,
   "id": "8015e2e4",
   "metadata": {},
   "outputs": [],
   "source": [
    "# 8. Reverse complement\n",
    "def reverse_complement(sequence):\n",
    "    return str(Seq(sequence).reverse_complement())\n"
   ]
  },
  {
   "cell_type": "code",
   "execution_count": null,
   "id": "7d114472",
   "metadata": {},
   "outputs": [],
   "source": [
    "# 9. Split FASTA file\n",
    "def split_fasta(input_fasta, output_prefix, sequences_per_file):\n",
    "    records = list(SeqIO.parse(input_fasta, \"fasta\"))\n",
    "    for i, batch in enumerate(range(0, len(records), sequences_per_file)):\n",
    "        with open(f\"{output_prefix}_{i+1}.fasta\", \"w\") as output_handle:\n",
    "            SeqIO.write(records[batch:batch+sequences_per_file], output_handle, \"fasta\")\n",
    "\n"
   ]
  },
  {
   "cell_type": "code",
   "execution_count": null,
   "id": "4ed37a6a",
   "metadata": {},
   "outputs": [],
   "source": [
    "# 10. Calculate read length distribution\n",
    "def read_length_distribution(fastq_file):\n",
    "    lengths = [len(record.seq) for record in SeqIO.parse(fastq_file, \"fastq\")]\n",
    "    plt.hist(lengths, bins=50)\n",
    "    plt.title(\"Read Length Distribution\")\n",
    "    plt.xlabel(\"Read Length\")\n",
    "    plt.ylabel(\"Frequency\")\n",
    "    plt.show()\n",
    "\n"
   ]
  },
  {
   "cell_type": "code",
   "execution_count": null,
   "id": "adfda270",
   "metadata": {},
   "outputs": [],
   "source": [
    "# Example usage:\n",
    "# count_fastq_sequences(\"example.fastq\")\n",
    "# calculate_gc_content(\"example.fasta\")\n",
    "# fastq_to_fasta(\"input.fastq\", \"output.fasta\")\n",
    "# longest_seq = find_longest_sequence(\"example.fasta\")\n",
    "# n50 = calculate_n50(\"example.fasta\")\n",
    "# filter_low_quality_reads(\"input.fastq\", \"output.fastq\", 20)\n",
    "# common_sequences = compare_fasta_files(\"file1.fasta\", \"file2.fasta\")\n",
    "# rev_comp = reverse_complement(\"ATGCATGC\")\n",
    "# split_fasta(\"large_file.fasta\", \"output\", 1000)\n",
    "# read_length_distribution(\"example.fastq\")"
   ]
  }
 ],
 "metadata": {
  "kernelspec": {
   "display_name": "Python 3 (ipykernel)",
   "language": "python",
   "name": "python3"
  },
  "language_info": {
   "codemirror_mode": {
    "name": "ipython",
    "version": 3
   },
   "file_extension": ".py",
   "mimetype": "text/x-python",
   "name": "python",
   "nbconvert_exporter": "python",
   "pygments_lexer": "ipython3",
   "version": "3.9.6"
  }
 },
 "nbformat": 4,
 "nbformat_minor": 5
}

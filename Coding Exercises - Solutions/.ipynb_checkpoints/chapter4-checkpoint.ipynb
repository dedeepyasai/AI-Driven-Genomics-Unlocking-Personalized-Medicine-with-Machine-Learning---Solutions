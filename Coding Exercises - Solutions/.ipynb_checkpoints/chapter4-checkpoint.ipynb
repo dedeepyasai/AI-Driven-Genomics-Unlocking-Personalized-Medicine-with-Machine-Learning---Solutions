{
 "cells": [
  {
   "cell_type": "code",
   "execution_count": null,
   "id": "517606c1",
   "metadata": {},
   "outputs": [],
   "source": [
    "import pandas as pd\n",
    "import numpy as np\n",
    "from sklearn.ensemble import RandomForestClassifier\n",
    "from scipy.stats import norm\n"
   ]
  },
  {
   "cell_type": "code",
   "execution_count": null,
   "id": "089814d1",
   "metadata": {},
   "outputs": [],
   "source": [
    "\n",
    "# 1. Identify known pharmacogenomic variants\n",
    "def identify_pgx_variants(patient_variants, known_pgx_variants):\n",
    "    return set(patient_variants).intersection(known_pgx_variants)\n",
    "\n"
   ]
  },
  {
   "cell_type": "code",
   "execution_count": null,
   "id": "90d20a2c",
   "metadata": {},
   "outputs": [],
   "source": [
    "# 2. Calculate drug response score\n",
    "def calculate_drug_response_score(patient_genotypes, marker_weights):\n",
    "    score = sum(patient_genotypes.get(marker, 0) * weight \n",
    "                for marker, weight in marker_weights.items())\n",
    "    return score / sum(marker_weights.values())  # Normalize to 0-1 range\n",
    "\n"
   ]
  },
  {
   "cell_type": "code",
   "execution_count": null,
   "id": "98fa75e9",
   "metadata": {},
   "outputs": [],
   "source": [
    "# 3. Predict drug-drug interactions\n",
    "def predict_drug_interactions(patient_genotype, drug_interaction_data):\n",
    "    potential_interactions = []\n",
    "    for drug1, drug2, interaction_genes in drug_interaction_data:\n",
    "        if any(patient_genotype.get(gene) for gene in interaction_genes):\n",
    "            potential_interactions.append((drug1, drug2))\n",
    "    return potential_interactions\n",
    "\n"
   ]
  },
  {
   "cell_type": "code",
   "execution_count": null,
   "id": "c54960c0",
   "metadata": {},
   "outputs": [],
   "source": [
    "# 4. Classify metabolizer status\n",
    "def classify_metabolizer_status(patient_score):\n",
    "    if patient_score < 0.25:\n",
    "        return \"Poor metabolizer\"\n",
    "    elif patient_score < 0.75:\n",
    "        return \"Intermediate metabolizer\"\n",
    "    elif patient_score < 1.25:\n",
    "        return \"Normal metabolizer\"\n",
    "    else:\n",
    "        return \"Rapid metabolizer\"\n",
    "\n"
   ]
  },
  {
   "cell_type": "code",
   "execution_count": null,
   "id": "43ff20ba",
   "metadata": {},
   "outputs": [],
   "source": [
    "# 5. Generate personalized drug recommendations\n",
    "def generate_drug_recommendations(patient_genotype, drug_pgx_data):\n",
    "    recommendations = []\n",
    "    for drug, pgx_info in drug_pgx_data.items():\n",
    "        relevant_variants = identify_pgx_variants(patient_genotype.keys(), pgx_info['variants'])\n",
    "        if relevant_variants:\n",
    "            score = calculate_drug_response_score(patient_genotype, \n",
    "                                                  {v: pgx_info['weights'][v] for v in relevant_variants})\n",
    "            status = classify_metabolizer_status(score)\n",
    "            recommendations.append({\n",
    "                'drug': drug,\n",
    "                'status': status,\n",
    "                'recommendation': pgx_info['recommendations'][status]\n",
    "            })\n",
    "    return recommendations\n",
    "\n"
   ]
  },
  {
   "cell_type": "code",
   "execution_count": null,
   "id": "fb5db5f7",
   "metadata": {},
   "outputs": [],
   "source": [
    "# 6. Identify potential adverse drug reactions\n",
    "def identify_adverse_reactions(patient_genotype, drug_adr_data):\n",
    "    potential_adrs = []\n",
    "    for drug, adr_info in drug_adr_data.items():\n",
    "        risk_score = sum(patient_genotype.get(variant, 0) * weight \n",
    "                         for variant, weight in adr_info['risk_variants'].items())\n",
    "        if risk_score > adr_info['risk_threshold']:\n",
    "            potential_adrs.append((drug, adr_info['adverse_reaction']))\n",
    "    return potential_adrs\n",
    "\n"
   ]
  },
  {
   "cell_type": "code",
   "execution_count": null,
   "id": "0615cfa4",
   "metadata": {},
   "outputs": [],
   "source": [
    "# 7. Calculate pharmacogenomic variant frequency\n",
    "def calculate_pgx_variant_frequency(population_data, pgx_variant):\n",
    "    return sum(individual.get(pgx_variant, 0) for individual in population_data) / len(population_data)\n",
    "\n"
   ]
  },
  {
   "cell_type": "code",
   "execution_count": null,
   "id": "b18c2bfb",
   "metadata": {},
   "outputs": [],
   "source": [
    "# 8. Predict drug dosage adjustments\n",
    "def predict_dosage_adjustment(patient_genotype, drug_dosage_model):\n",
    "    features = [patient_genotype.get(feature, 0) for feature in drug_dosage_model['features']]\n",
    "    base_dosage = drug_dosage_model['base_dosage']\n",
    "    adjustment_factor = drug_dosage_model['model'].predict([features])[0]\n",
    "    return base_dosage * adjustment_factor\n",
    "\n"
   ]
  },
  {
   "cell_type": "code",
   "execution_count": null,
   "id": "76a2aec3",
   "metadata": {},
   "outputs": [],
   "source": [
    "# 9. Identify drug metabolism genes\n",
    "def identify_metabolism_genes(drug, drug_metabolism_data):\n",
    "    return drug_metabolism_data.get(drug, [])\n",
    "\n"
   ]
  },
  {
   "cell_type": "code",
   "execution_count": null,
   "id": "830afad8",
   "metadata": {},
   "outputs": [],
   "source": [
    "# 10. Simulate clinical trial outcome\n",
    "def simulate_clinical_trial(participants, drug_response_model, efficacy_threshold):\n",
    "    responders = 0\n",
    "    for participant in participants:\n",
    "        response_score = calculate_drug_response_score(participant, drug_response_model)\n",
    "        if response_score >= efficacy_threshold:\n",
    "            responders += 1\n",
    "    return responders / len(participants)\n",
    "\n"
   ]
  },
  {
   "cell_type": "code",
   "execution_count": null,
   "id": "bc2ef248",
   "metadata": {},
   "outputs": [],
   "source": [
    "# Example usage:\n",
    "# known_pgx_variants = {'CYP2D6*1', 'CYP2C19*2', 'VKORC1-1639G>A'}\n",
    "# patient_variants = {'CYP2D6*1', 'CYP2C9*3', 'VKORC1-1639G>A'}\n",
    "# pgx_variants = identify_pgx_variants(patient_variants, known_pgx_variants)\n",
    "\n",
    "# marker_weights = {'CYP2D6*1': 1, 'CYP2C19*2': -0.5, 'VKORC1-1639G>A': 0.8}\n",
    "# patient_genotypes = {'CYP2D6*1': 1, 'CYP2C19*2': 0, 'VKORC1-1639G>A': 1}\n",
    "# response_score = calculate_drug_response_score(patient_genotypes, marker_weights)\n",
    "\n",
    "# drug_interaction_data = [('Drug A', 'Drug B', ['CYP3A4', 'CYP2D6']),\n",
    "#                          ('Drug B', 'Drug C', ['CYP2C19'])]\n",
    "# interactions = predict_drug_interactions(patient_genotypes, drug_interaction_data)\n",
    "\n",
    "# metabolizer_status = classify_metabolizer_status(response_score)\n",
    "\n",
    "# drug_pgx_data = {\n",
    "#     'Warfarin': {\n",
    "#         'variants': ['VKORC1-1639G>A', 'CYP2C9*2', 'CYP2C9*3'],\n",
    "#         'weights': {'VKORC1-1639G>A': 1, 'CYP2C9*2': -0.5, 'CYP2C9*3': -1},\n",
    "#         'recommendations': {\n",
    "#             'Poor metabolizer': 'Consider alternative drug',\n",
    "#             'Intermediate metabolizer': 'Reduce dose by 50%',\n",
    "#             'Normal metabolizer': 'Standard dosing',\n",
    "#             'Rapid metabolizer': 'Increase dose by 50%'\n",
    "#         }\n",
    "#     }\n",
    "# }\n",
    "# recommendations = generate_drug_recommendations(patient_genotypes, drug_pgx_data)\n",
    "\n",
    "# drug_adr_data = {\n",
    "#     'Abacavir': {\n",
    "#         'risk_variants': {'HLA-B*57:01': 1},\n",
    "#         'risk_threshold': 0.5,\n",
    "#         'adverse_reaction': 'Hypersensitivity reaction'\n",
    "#     }\n",
    "# }\n",
    "# potential_adrs = identify_adverse_reactions(patient_genotypes, drug_adr_data)\n",
    "\n",
    "# population_data = [{'CYP2D6*1': 1, 'CYP2C19*2': 0}, {'CYP2D6*1': 0, 'CYP2C19*2': 1}]\n",
    "# variant_frequency = calculate_pgx_variant_frequency(population_data, 'CYP2D6*1')\n",
    "\n",
    "# drug_dosage_model = {\n",
    "#     'features': ['CYP2C9*2', 'CYP2C9*3', 'VKORC1-1639G>A'],\n",
    "#     'base_dosage': 5,\n",
    "#     'model': RandomForestClassifier().fit(np.random.rand(100, 3), np.random.rand(100))\n",
    "# }\n",
    "# adjusted_dosage = predict_dosage_adjustment(patient_genotypes, drug_dosage_model)\n",
    "\n",
    "# drug_metabolism_data = {'Warfarin': ['CYP2C9', 'VKORC1']}\n",
    "# metabolism_genes = identify_metabolism_genes('Warfarin', drug_metabolism_data)\n",
    "\n",
    "# participants = [{'CYP2D6*1': np.random.randint(0, 2), 'CYP2C19*2': np.random.randint(0, 2)} for _ in range(1000)]\n",
    "# trial_outcome = simulate_clinical_trial(participants, marker_weights, 0.7)"
   ]
  }
 ],
 "metadata": {
  "kernelspec": {
   "display_name": "Python 3 (ipykernel)",
   "language": "python",
   "name": "python3"
  },
  "language_info": {
   "codemirror_mode": {
    "name": "ipython",
    "version": 3
   },
   "file_extension": ".py",
   "mimetype": "text/x-python",
   "name": "python",
   "nbconvert_exporter": "python",
   "pygments_lexer": "ipython3",
   "version": "3.9.6"
  }
 },
 "nbformat": 4,
 "nbformat_minor": 5
}

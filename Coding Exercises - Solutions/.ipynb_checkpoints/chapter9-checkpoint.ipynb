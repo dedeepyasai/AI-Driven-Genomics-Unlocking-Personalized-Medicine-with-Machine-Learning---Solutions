{
 "cells": [
  {
   "cell_type": "code",
   "execution_count": null,
   "id": "1bfac09c",
   "metadata": {},
   "outputs": [],
   "source": [
    "import numpy as np\n",
    "import pandas as pd\n",
    "from sklearn.preprocessing import StandardScaler\n",
    "from sklearn.feature_selection import mutual_info_classif\n",
    "from sklearn.model_selection import train_test_split, cross_val_score\n",
    "from sklearn.ensemble import RandomForestClassifier\n",
    "from sklearn.metrics import accuracy_score, precision_score, recall_score, f1_score\n",
    "from imblearn.over_sampling import SMOTE\n",
    "from sklearn.inspection import permutation_importance\n",
    "from sklearn.model_selection import GridSearchCV\n",
    "import tensorflow as tf\n",
    "from tensorflow.keras.models import Sequential\n",
    "from tensorflow.keras.layers import Dense, Dropout\n",
    "from tensorflow.keras.applications import VGG16\n",
    "\n"
   ]
  },
  {
   "cell_type": "code",
   "execution_count": null,
   "id": "30505204",
   "metadata": {},
   "outputs": [],
   "source": [
    "# 1. Preprocess genomic data\n",
    "def preprocess_genomic_data(data, categorical_columns=None):\n",
    "    if categorical_columns is None:\n",
    "        categorical_columns = []\n",
    "    \n",
    "    # Handle missing values\n",
    "    data = data.fillna(data.mean())\n",
    "    \n",
    "    # Encode categorical variables\n",
    "    data = pd.get_dummies(data, columns=categorical_columns)\n",
    "    \n",
    "    # Scale numerical features\n",
    "    scaler = StandardScaler()\n",
    "    numerical_columns = [col for col in data.columns if col not in categorical_columns]\n",
    "    data[numerical_columns] = scaler.fit_transform(data[numerical_columns])\n",
    "    \n",
    "    return data\n",
    "\n",
    "\n"
   ]
  },
  {
   "cell_type": "code",
   "execution_count": null,
   "id": "8415efa8",
   "metadata": {},
   "outputs": [],
   "source": [
    "# 2. Feature selection using mutual information\n",
    "def select_features_mutual_info(X, y, k=10):\n",
    "    mi_scores = mutual_info_classif(X, y)\n",
    "    mi_scores = pd.Series(mi_scores, index=X.columns)\n",
    "    top_features = mi_scores.nlargest(k).index.tolist()\n",
    "    return X[top_features]\n",
    "\n"
   ]
  },
  {
   "cell_type": "code",
   "execution_count": null,
   "id": "fd89baaf",
   "metadata": {},
   "outputs": [],
   "source": [
    "# 3. Build and evaluate classification model\n",
    "def build_evaluate_classifier(X, y):\n",
    "    X_train, X_test, y_train, y_test = train_test_split(X, y, test_size=0.2, random_state=42)\n",
    "    \n",
    "    model = RandomForestClassifier(n_estimators=100, random_state=42)\n",
    "    model.fit(X_train, y_train)\n",
    "    \n",
    "    y_pred = model.predict(X_test)\n",
    "    \n",
    "    metrics = {\n",
    "        'accuracy': accuracy_score(y_test, y_pred),\n",
    "        'precision': precision_score(y_test, y_pred, average='weighted'),\n",
    "        'recall': recall_score(y_test, y_pred, average='weighted'),\n",
    "        'f1': f1_score(y_test, y_pred, average='weighted')\n",
    "    }\n",
    "    \n",
    "    return model, metrics\n",
    "\n"
   ]
  },
  {
   "cell_type": "code",
   "execution_count": null,
   "id": "afd4f4bd",
   "metadata": {},
   "outputs": [],
   "source": [
    "# 4. Perform cross-validation\n",
    "def cross_validate_model(X, y, model, cv=5):\n",
    "    scores = cross_val_score(model, X, y, cv=cv, scoring='accuracy')\n",
    "    return scores.mean(), scores.std()\n",
    "\n"
   ]
  },
  {
   "cell_type": "code",
   "execution_count": null,
   "id": "3d61dee3",
   "metadata": {},
   "outputs": [],
   "source": [
    "# 5. Handle class imbalance\n",
    "def handle_class_imbalance(X, y):\n",
    "    smote = SMOTE(random_state=42)\n",
    "    X_resampled, y_resampled = smote.fit_resample(X, y)\n",
    "    return X_resampled, y_resampled\n",
    "\n"
   ]
  },
  {
   "cell_type": "code",
   "execution_count": null,
   "id": "1a685a9f",
   "metadata": {},
   "outputs": [],
   "source": [
    "# 6. Build ensemble model\n",
    "def build_ensemble_model(X, y):\n",
    "    base_models = [\n",
    "        RandomForestClassifier(n_estimators=100, random_state=42),\n",
    "        GradientBoostingClassifier(n_estimators=100, random_state=42),\n",
    "        ExtraTreesClassifier(n_estimators=100, random_state=42)\n",
    "    ]\n",
    "    \n",
    "    ensemble = VotingClassifier(estimators=[(f\"model_{i}\", model) for i, model in enumerate(base_models)], \n",
    "                                voting='soft')\n",
    "    \n",
    "    ensemble.fit(X, y)\n",
    "    return ensemble\n",
    "\n"
   ]
  },
  {
   "cell_type": "code",
   "execution_count": null,
   "id": "523f6496",
   "metadata": {},
   "outputs": [],
   "source": [
    "# 7. Interpret feature importance\n",
    "def interpret_feature_importance(model, X, y):\n",
    "    result = permutation_importance(model, X, y, n_repeats=10, random_state=42)\n",
    "    importance = pd.DataFrame({\n",
    "        'feature': X.columns,\n",
    "        'importance': result.importances_mean\n",
    "    }).sort_values('importance', ascending=False)\n",
    "    \n",
    "    return importance\n",
    "\n"
   ]
  },
  {
   "cell_type": "code",
   "execution_count": null,
   "id": "433dfc07",
   "metadata": {},
   "outputs": [],
   "source": [
    "# 8. Perform hyperparameter tuning\n",
    "def tune_hyperparameters(X, y, model, param_grid):\n",
    "    grid_search = GridSearchCV(model, param_grid, cv=5, scoring='accuracy')\n",
    "    grid_search.fit(X, y)\n",
    "    \n",
    "    return grid_search.best_params_, grid_search.best_score_\n",
    "\n"
   ]
  },
  {
   "cell_type": "code",
   "execution_count": null,
   "id": "418baebb",
   "metadata": {},
   "outputs": [],
   "source": [
    "# 9. Build simple neural network\n",
    "def build_neural_network(input_shape, num_classes):\n",
    "    model = Sequential([\n",
    "        Dense(64, activation='relu', input_shape=(input_shape,)),\n",
    "        Dropout(0.5),\n",
    "        Dense(32, activation='relu'),\n",
    "        Dropout(0.5),\n",
    "        Dense(num_classes, activation='softmax')\n",
    "    ])\n",
    "    \n",
    "    model.compile(optimizer='adam', loss='categorical_crossentropy', metrics=['accuracy'])\n",
    "    return model\n",
    "\n"
   ]
  },
  {
   "cell_type": "code",
   "execution_count": null,
   "id": "9924f4fd",
   "metadata": {},
   "outputs": [],
   "source": [
    "# 10. Perform transfer learning\n",
    "def transfer_learning(X, y, input_shape):\n",
    "    base_model = VGG16(weights='imagenet', include_top=False, input_shape=input_shape)\n",
    "    \n",
    "    for layer in base_model.layers:\n",
    "        layer.trainable = False\n",
    "    \n",
    "    model = Sequential([\n",
    "        base_model,\n",
    "        Flatten(),\n",
    "        Dense(256, activation='relu'),\n",
    "        Dropout(0.5),\n",
    "        Dense(1, activation='sigmoid')\n",
    "    ])\n",
    "    \n",
    "    model.compile(optimizer='adam', loss='binary_crossentropy', metrics=['accuracy'])\n",
    "    return model\n",
    "\n"
   ]
  },
  {
   "cell_type": "code",
   "execution_count": null,
   "id": "8c60cad5",
   "metadata": {},
   "outputs": [],
   "source": [
    "# Example usage:\n",
    "# Assuming you have a dataset 'data' with features and a target variable 'y'\n",
    "# preprocessed_data = preprocess_genomic_data(data)\n",
    "\n",
    "# X = preprocessed_data.drop('target', axis=1)\n",
    "# y = preprocessed_data['target']\n",
    "\n",
    "# selected_features = select_features_mutual_info(X, y)\n",
    "\n",
    "# model, metrics = build_evaluate_classifier(selected_features, y)\n",
    "\n",
    "# cv_mean, cv_std = cross_validate_model(selected_features, y, model)\n",
    "\n",
    "# X_resampled, y_resampled = handle_class_imbalance(X, y)\n",
    "\n",
    "# ensemble_model = build_ensemble_model(X, y)\n",
    "\n",
    "# feature_importance = interpret_feature_importance(model, X, y)\n",
    "\n",
    "# param_grid = {\n",
    "#     'n_estimators': [100, 200, 300],\n",
    "#     'max_depth': [5, 10, None],\n",
    "#     'min_samples_split': [2, 5, 10]\n",
    "# }\n",
    "# best_params, best_score = tune_hyperparameters(X, y, RandomForestClassifier(), param_grid)\n",
    "\n",
    "# nn_model = build_neural_network(X.shape[1], len(np.unique(y)))\n",
    "\n",
    "# Assuming X contains image data reshaped to (samples, height, width, channels)\n",
    "# transfer_model = transfer_learning(X, y, (224, 224, 3))"
   ]
  }
 ],
 "metadata": {
  "kernelspec": {
   "display_name": "Python 3 (ipykernel)",
   "language": "python",
   "name": "python3"
  },
  "language_info": {
   "codemirror_mode": {
    "name": "ipython",
    "version": 3
   },
   "file_extension": ".py",
   "mimetype": "text/x-python",
   "name": "python",
   "nbconvert_exporter": "python",
   "pygments_lexer": "ipython3",
   "version": "3.9.6"
  }
 },
 "nbformat": 4,
 "nbformat_minor": 5
}

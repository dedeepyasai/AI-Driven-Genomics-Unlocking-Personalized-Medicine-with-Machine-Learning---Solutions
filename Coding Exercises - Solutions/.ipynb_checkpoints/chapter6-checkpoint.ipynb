{
 "cells": [
  {
   "cell_type": "code",
   "execution_count": null,
   "id": "af8f8f2b",
   "metadata": {},
   "outputs": [],
   "source": [
    "import numpy as np\n",
    "import pandas as pd\n",
    "import matplotlib.pyplot as plt\n",
    "import seaborn as sns\n",
    "from scipy import stats\n",
    "from sklearn.cluster import KMeans\n",
    "from scipy.stats import norm\n",
    "from sklearn.mixture import GaussianMixture\n",
    "\n"
   ]
  },
  {
   "cell_type": "code",
   "execution_count": null,
   "id": "fd65a743",
   "metadata": {},
   "outputs": [],
   "source": [
    "# 1. Calculate average DNA methylation level\n",
    "def average_methylation(methylation_data, start, end):\n",
    "    region_data = methylation_data[(methylation_data['position'] >= start) & \n",
    "                                   (methylation_data['position'] <= end)]\n",
    "    return region_data['methylation'].mean()\n",
    "\n"
   ]
  },
  {
   "cell_type": "code",
   "execution_count": null,
   "id": "7c7f1b3b",
   "metadata": {},
   "outputs": [],
   "source": [
    "# 2. Identify differentially methylated regions\n",
    "def identify_dmrs(condition1, condition2, window_size=1000, step_size=100, p_threshold=0.05):\n",
    "    dmrs = []\n",
    "    for start in range(0, max(condition1['position'].max(), condition2['position'].max()), step_size):\n",
    "        end = start + window_size\n",
    "        region1 = condition1[(condition1['position'] >= start) & (condition1['position'] < end)]\n",
    "        region2 = condition2[(condition2['position'] >= start) & (condition2['position'] < end)]\n",
    "        if len(region1) > 0 and len(region2) > 0:\n",
    "            t_stat, p_value = stats.ttest_ind(region1['methylation'], region2['methylation'])\n",
    "            if p_value < p_threshold:\n",
    "                dmrs.append((start, end, t_stat, p_value))\n",
    "    return pd.DataFrame(dmrs, columns=['start', 'end', 't_statistic', 'p_value'])\n",
    "\n"
   ]
  },
  {
   "cell_type": "code",
   "execution_count": null,
   "id": "dfb1c059",
   "metadata": {},
   "outputs": [],
   "source": [
    "# 3. Visualize DNA methylation patterns\n",
    "def plot_methylation_heatmap(methylation_data, genes, window=1000):\n",
    "    matrix = []\n",
    "    for gene in genes:\n",
    "        start = gene['start'] - window\n",
    "        end = gene['end'] + window\n",
    "        region_data = methylation_data[(methylation_data['position'] >= start) & \n",
    "                                       (methylation_data['position'] <= end)]\n",
    "        matrix.append(region_data['methylation'].values)\n",
    "    \n",
    "    plt.figure(figsize=(10, 8))\n",
    "    sns.heatmap(matrix, cmap='coolwarm', center=0.5)\n",
    "    plt.title('DNA Methylation Patterns')\n",
    "    plt.xlabel('Position relative to gene')\n",
    "    plt.ylabel('Genes')\n",
    "    plt.show()\n",
    "\n"
   ]
  },
  {
   "cell_type": "code",
   "execution_count": null,
   "id": "bd0617a7",
   "metadata": {},
   "outputs": [],
   "source": [
    "# 4. Classify CpG islands\n",
    "def classify_cpg_islands(cpg_data, threshold_low=0.3, threshold_high=0.7):\n",
    "    classifications = []\n",
    "    for _, cpg in cpg_data.iterrows():\n",
    "        if cpg['mean_methylation'] < threshold_low:\n",
    "            classifications.append('Hypomethylated')\n",
    "        elif cpg['mean_methylation'] > threshold_high:\n",
    "            classifications.append('Hypermethylated')\n",
    "        else:\n",
    "            classifications.append('Intermediate')\n",
    "    return pd.Series(classifications, index=cpg_data.index)\n",
    "\n",
    "\n"
   ]
  },
  {
   "cell_type": "code",
   "execution_count": null,
   "id": "d90a3003",
   "metadata": {},
   "outputs": [],
   "source": [
    "# 5. Integrate methylation and gene expression data\n",
    "def integrate_methylation_expression(methylation_data, expression_data, window=1000):\n",
    "    integrated_data = []\n",
    "    for gene, expr in expression_data.items():\n",
    "        gene_methylation = methylation_data[(methylation_data['position'] >= gene['start'] - window) & \n",
    "                                            (methylation_data['position'] <= gene['end'] + window)]\n",
    "        mean_methylation = gene_methylation['methylation'].mean()\n",
    "        integrated_data.append((gene, mean_methylation, expr))\n",
    "    return pd.DataFrame(integrated_data, columns=['gene', 'mean_methylation', 'expression'])\n",
    "\n"
   ]
  },
  {
   "cell_type": "code",
   "execution_count": null,
   "id": "db20e59b",
   "metadata": {},
   "outputs": [],
   "source": [
    "# 6. Peak calling for ChIP-seq data\n",
    "def call_peaks(chip_data, control_data, window_size=1000, fold_enrichment=4, p_threshold=1e-5):\n",
    "    peaks = []\n",
    "    for start in range(0, chip_data['position'].max(), window_size):\n",
    "        end = start + window_size\n",
    "        chip_counts = chip_data[(chip_data['position'] >= start) & (chip_data['position'] < end)]['counts'].sum()\n",
    "        control_counts = control_data[(control_data['position'] >= start) & (control_data['position'] < end)]['counts'].sum()\n",
    "        \n",
    "        if chip_counts > 0 and control_counts > 0:\n",
    "            fold_change = chip_counts / control_counts\n",
    "            p_value = stats.poisson.sf(chip_counts, control_counts)\n",
    "            \n",
    "            if fold_change >= fold_enrichment and p_value <= p_threshold:\n",
    "                peaks.append((start, end, fold_change, p_value))\n",
    "    \n",
    "    return pd.DataFrame(peaks, columns=['start', 'end', 'fold_change', 'p_value'])\n",
    "\n"
   ]
  },
  {
   "cell_type": "code",
   "execution_count": null,
   "id": "81f3cff2",
   "metadata": {},
   "outputs": [],
   "source": [
    "# 7. Calculate histone modification enrichment around TSS\n",
    "def histone_enrichment_tss(histone_data, tss_positions, window=5000):\n",
    "    enrichment = np.zeros(2 * window + 1)\n",
    "    for tss in tss_positions:\n",
    "        region_data = histone_data[(histone_data['position'] >= tss - window) & \n",
    "                                   (histone_data['position'] <= tss + window)]\n",
    "        region_data['relative_position'] = region_data['position'] - tss + window\n",
    "        enrichment += np.bincount(region_data['relative_position'], \n",
    "                                  weights=region_data['signal'], \n",
    "                                  minlength=2*window+1)\n",
    "    return enrichment / len(tss_positions)\n",
    "\n"
   ]
  },
  {
   "cell_type": "code",
   "execution_count": null,
   "id": "521298c2",
   "metadata": {},
   "outputs": [],
   "source": [
    "# 8. Identify bivalent chromatin domains\n",
    "def identify_bivalent_domains(activating_marks, repressing_marks, window_size=5000):\n",
    "    bivalent_domains = []\n",
    "    for start in range(0, max(activating_marks['position'].max(), repressing_marks['position'].max()), window_size):\n",
    "        end = start + window_size\n",
    "        activating = activating_marks[(activating_marks['position'] >= start) & (activating_marks['position'] < end)]\n",
    "        repressing = repressing_marks[(repressing_marks['position'] >= start) & (repressing_marks['position'] < end)]\n",
    "        \n",
    "        if activating['signal'].sum() > 0 and repressing['signal'].sum() > 0:\n",
    "            bivalent_domains.append((start, end))\n",
    "    \n",
    "    return pd.DataFrame(bivalent_domains, columns=['start', 'end'])\n",
    "\n"
   ]
  },
  {
   "cell_type": "code",
   "execution_count": null,
   "id": "fc3f5b57",
   "metadata": {},
   "outputs": [],
   "source": [
    "# 9. Predict enhancer regions\n",
    "def predict_enhancers(h3k4me1_data, h3k27ac_data, window_size=1000, threshold=0.8):\n",
    "    enhancers = []\n",
    "    for start in range(0, max(h3k4me1_data['position'].max(), h3k27ac_data['position'].max()), window_size):\n",
    "        end = start + window_size\n",
    "        h3k4me1 = h3k4me1_data[(h3k4me1_data['position'] >= start) & (h3k4me1_data['position'] < end)]\n",
    "        h3k27ac = h3k27ac_data[(h3k27ac_data['position'] >= start) & (h3k27ac_data['position'] < end)]\n",
    "        \n",
    "        if h3k4me1['signal'].mean() > threshold and h3k27ac['signal'].mean() > threshold:\n",
    "            enhancers.append((start, end))\n",
    "    \n",
    "    return pd.DataFrame(enhancers, columns=['start', 'end'])\n",
    "\n"
   ]
  },
  {
   "cell_type": "code",
   "execution_count": null,
   "id": "b0ff744e",
   "metadata": {},
   "outputs": [],
   "source": [
    "# 10. Simulate DNA methylation data\n",
    "def simulate_methylation_data(n_regions=1000, n_cpgs_per_region=20):\n",
    "    methylation_data = []\n",
    "    for i in range(n_regions):\n",
    "        start = i * 1000\n",
    "        cpg_positions = np.sort(np.random.choice(range(start, start+1000), n_cpgs_per_region, replace=False))\n",
    "        methylation_levels = np.random.beta(1, 1, n_cpgs_per_region)\n",
    "        for pos, meth in zip(cpg_positions, methylation_levels):\n",
    "            methylation_data.append((pos, meth))\n",
    "    \n",
    "    return pd.DataFrame(methylation_data, columns=['position', 'methylation'])\n",
    "\n"
   ]
  },
  {
   "cell_type": "code",
   "execution_count": null,
   "id": "b25dd616",
   "metadata": {},
   "outputs": [],
   "source": [
    "# Example usage:\n",
    "# methylation_data = simulate_methylation_data()\n",
    "# avg_methylation = average_methylation(methylation_data, 1000, 2000)\n",
    "\n",
    "# condition1 = simulate_methylation_data()\n",
    "# condition2 = simulate_methylation_data()\n",
    "# dmrs = identify_dmrs(condition1, condition2)\n",
    "\n",
    "# genes = [{'start': 1000, 'end': 2000}, {'start': 3000, 'end': 4000}]\n",
    "# plot_methylation_heatmap(methylation_data, genes)\n",
    "\n",
    "# cpg_islands = pd.DataFrame({'mean_methylation': np.random.uniform(0, 1, 100)})\n",
    "# cpg_classifications = classify_cpg_islands(cpg_islands)\n",
    "\n",
    "# expression_data = {'gene1': 10, 'gene2': 20}\n",
    "# integrated_data = integrate_methylation_expression(methylation_data, expression_data)\n",
    "\n",
    "# chip_data = pd.DataFrame({'position': range(10000), 'counts': np.random.poisson(10, 10000)})\n",
    "# control_data = pd.DataFrame({'position': range(10000), 'counts': np.random.poisson(5, 10000)})\n",
    "# peaks = call_peaks(chip_data, control_data)\n",
    "\n",
    "# tss_positions = [1000, 3000, 5000]\n",
    "# histone_data = pd.DataFrame({'position': range(10000), 'signal': np.random.poisson(5, 10000)})\n",
    "# enrichment = histone_enrichment_tss(histone_data, tss_positions)\n",
    "\n",
    "# activating_marks = pd.DataFrame({'position': range(10000), 'signal': np.random.poisson(5, 10000)})\n",
    "# repressing_marks = pd.DataFrame({'position': range(10000), 'signal': np.random.poisson(5, 10000)})\n",
    "# bivalent_domains = identify_bivalent_domains(activating_marks, repressing_marks)\n",
    "\n",
    "# h3k4me1_data = pd.DataFrame({'position': range(10000), 'signal': np.random.uniform(0, 1, 10000)})\n",
    "# h3k27ac_data = pd.DataFrame({'position': range(10000), 'signal': np.random.uniform(0, 1, 10000)})\n",
    "# enhancers = predict_enhancers(h3k4me1_data, h3k27ac_data)\n",
    "\n",
    "# simulated_methylation = simulate_methylation_data()"
   ]
  }
 ],
 "metadata": {
  "kernelspec": {
   "display_name": "Python 3 (ipykernel)",
   "language": "python",
   "name": "python3"
  },
  "language_info": {
   "codemirror_mode": {
    "name": "ipython",
    "version": 3
   },
   "file_extension": ".py",
   "mimetype": "text/x-python",
   "name": "python",
   "nbconvert_exporter": "python",
   "pygments_lexer": "ipython3",
   "version": "3.9.6"
  }
 },
 "nbformat": 4,
 "nbformat_minor": 5
}
